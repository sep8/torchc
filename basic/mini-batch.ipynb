{
 "cells": [
  {
   "cell_type": "code",
   "execution_count": 257,
   "metadata": {},
   "outputs": [],
   "source": [
    "import os\n",
    "import numpy as np\n",
    "import pandas as pd\n",
    "import torch\n",
    "from torch.utils.data import DataLoader, Dataset"
   ]
  },
  {
   "cell_type": "code",
   "execution_count": 258,
   "metadata": {},
   "outputs": [],
   "source": [
    "class TitanicDataset(Dataset):\n",
    "    def __init__(self, path):\n",
    "      # Sex, Ticket, Cabin, Embarked\n",
    "      x_headers = ['Pclass','Age','SibSp','Parch', 'Fare']\n",
    "      y_headers = ['Survived']\n",
    "      data = pd.read_csv(path)\n",
    "      x_data = data.loc[:, x_headers].ffill(0)\n",
    "      y_data = data.loc[:, y_headers]\n",
    "      self.len = len(x_data)\n",
    "      self.x_data = torch.from_numpy(x_data.to_numpy()).float()\n",
    "      self.y_data = torch.from_numpy(y_data.to_numpy()).float()\n",
    "\n",
    "    def __getitem__(self, index): \n",
    "        return self.x_data[index], self.y_data[index]\n",
    "\n",
    "    def __len__(self):\n",
    "        return self.len"
   ]
  },
  {
   "cell_type": "code",
   "execution_count": 259,
   "metadata": {},
   "outputs": [
    {
     "name": "stderr",
     "output_type": "stream",
     "text": [
      "/var/folders/ms/23y4kqr569g2hgfrfjmp515m0000gn/T/ipykernel_2914/42285370.py:7: FutureWarning: In a future version of pandas all arguments of DataFrame.ffill will be keyword-only.\n",
      "  x_data = data.loc[:, x_headers].ffill(0)\n"
     ]
    }
   ],
   "source": [
    "train_dataset = TitanicDataset(os.path.join('../../tmp/titanic', 'train.csv'))\n",
    "\n",
    "train_loader = DataLoader(train_dataset, batch_size=32, shuffle=True)"
   ]
  },
  {
   "cell_type": "code",
   "execution_count": 260,
   "metadata": {},
   "outputs": [],
   "source": [
    "test_data = [\n",
    "  [[3., 34.5, 0., 0., 7.8292], 0.],\n",
    "  [[3., 47., 1., 0., 7.], 1.],\n",
    "  [[2., 62., 0., 0., 9.6875], 0.],\n",
    "  [[3., 27., 0., 0., 8.6625], 0.],\n",
    "]\n"
   ]
  },
  {
   "cell_type": "code",
   "execution_count": 261,
   "metadata": {},
   "outputs": [],
   "source": [
    "class SigmoidRegressionModel(torch.nn.Module):\n",
    "  def __init__(self):\n",
    "    super(SigmoidRegressionModel, self).__init__()\n",
    "    self.linear1 = torch.nn.Linear(5, 3)\n",
    "    self.linear2 = torch.nn.Linear(3, 1)\n",
    "    self.sigmoid = torch.nn.Sigmoid()\n",
    "  \n",
    "  def forward(self, x):\n",
    "    x = self.linear1(x)\n",
    "    x = self.linear2(x)\n",
    "    y_pred = self.sigmoid(x)\n",
    "    return y_pred\n",
    "    \n",
    "model = SigmoidRegressionModel()"
   ]
  },
  {
   "cell_type": "code",
   "execution_count": 262,
   "metadata": {},
   "outputs": [
    {
     "name": "stdout",
     "output_type": "stream",
     "text": [
      "Before training:  tensor([0.1364], grad_fn=<SigmoidBackward0>)\n",
      "0 266.49615478515625\n",
      "10 1800.0\n",
      "20 2000.0\n",
      "30 2100.0\n",
      "40 2000.0\n",
      "50 2000.0\n",
      "60 1900.0\n",
      "70 1800.0\n",
      "80 2100.0\n",
      "90 2400.0\n",
      "100 1600.0\n",
      "110 2100.0\n",
      "120 1800.0\n",
      "130 2200.0\n",
      "140 2100.0\n",
      "150 2200.0\n",
      "160 1800.0\n",
      "170 1700.0\n",
      "180 2100.0\n",
      "190 1600.0\n",
      "200 2000.0\n",
      "210 1600.0\n",
      "220 1500.0\n",
      "230 1900.0\n",
      "240 2000.0\n",
      "250 2100.0\n",
      "260 2200.0\n",
      "270 2100.0\n",
      "280 2000.0\n",
      "290 2200.0\n",
      "300 1800.0\n",
      "310 2000.0\n",
      "320 1900.0\n",
      "330 2100.0\n",
      "340 2100.0\n",
      "350 2100.0\n",
      "360 1300.0\n",
      "370 2300.0\n",
      "380 1800.0\n",
      "390 2100.0\n",
      "400 2200.0\n",
      "410 1900.0\n",
      "420 2700.0\n",
      "430 1800.0\n",
      "440 2400.0\n",
      "450 2100.0\n",
      "460 1500.0\n",
      "470 2000.0\n",
      "480 2600.0\n",
      "490 2200.0\n",
      "500 2300.0\n",
      "510 2000.0\n",
      "520 2200.0\n",
      "530 2000.0\n",
      "540 2300.0\n",
      "550 2100.0\n",
      "560 2600.0\n",
      "570 1200.0\n",
      "580 2100.0\n",
      "590 1400.0\n",
      "600 1900.0\n",
      "610 1900.0\n",
      "620 2100.0\n",
      "630 2200.0\n",
      "640 2000.0\n",
      "650 1900.0\n",
      "660 1900.0\n",
      "670 2100.0\n",
      "680 2400.0\n",
      "690 2000.0\n",
      "700 1900.0\n",
      "710 2200.0\n",
      "720 1900.0\n",
      "730 1400.0\n",
      "740 1600.0\n",
      "750 1700.0\n",
      "760 1800.0\n",
      "770 1900.0\n",
      "780 2100.0\n",
      "790 2000.0\n",
      "800 1400.0\n",
      "810 1900.0\n",
      "820 1700.0\n",
      "830 2400.0\n",
      "840 2100.0\n",
      "850 2200.0\n",
      "860 2100.0\n",
      "870 1900.0\n",
      "880 2400.0\n",
      "890 2200.0\n",
      "900 2200.0\n",
      "910 2000.0\n",
      "920 1800.0\n",
      "930 1900.0\n",
      "940 2200.0\n",
      "950 1900.0\n",
      "960 2200.0\n",
      "970 1900.0\n",
      "980 1800.0\n",
      "990 1900.0\n",
      "After training:  tensor([1.], grad_fn=<SigmoidBackward0>)\n"
     ]
    }
   ],
   "source": [
    "criterion = torch.nn.BCELoss(reduction='sum')\n",
    "optimizer = torch.optim.SGD(model.parameters(), lr=0.01)\n",
    "print('Before training: ', model(torch.tensor(test_data[0][0])))\n",
    "for epoch in range(1000):\n",
    "  for i, (x, y) in enumerate(train_loader):\n",
    "    y_pred = model(x)\n",
    "    loss = criterion(y_pred, y)\n",
    "    if(epoch % 10 == 0 and i == 0):\n",
    "      print(epoch, loss.item())\n",
    "    optimizer.zero_grad()\n",
    "    loss.backward()\n",
    "    optimizer.step()\n",
    "\n",
    "print('After training: ', model(torch.tensor(test_data[0][0])))\n"
   ]
  },
  {
   "cell_type": "code",
   "execution_count": 266,
   "metadata": {},
   "outputs": [
    {
     "data": {
      "text/plain": [
       "tensor([1.], grad_fn=<SigmoidBackward0>)"
      ]
     },
     "execution_count": 266,
     "metadata": {},
     "output_type": "execute_result"
    }
   ],
   "source": [
    "model(torch.tensor(test_data[3][0]))"
   ]
  },
  {
   "cell_type": "code",
   "execution_count": null,
   "metadata": {},
   "outputs": [],
   "source": []
  }
 ],
 "metadata": {
  "kernelspec": {
   "display_name": "Python 3.8.13 ('c3-nlp')",
   "language": "python",
   "name": "python3"
  },
  "language_info": {
   "codemirror_mode": {
    "name": "ipython",
    "version": 3
   },
   "file_extension": ".py",
   "mimetype": "text/x-python",
   "name": "python",
   "nbconvert_exporter": "python",
   "pygments_lexer": "ipython3",
   "version": "3.8.13"
  },
  "orig_nbformat": 4,
  "vscode": {
   "interpreter": {
    "hash": "022b350d9d731ea6beeec17b0760db9de374177ccae69f8fd03b1c527dbc4257"
   }
  }
 },
 "nbformat": 4,
 "nbformat_minor": 2
}
