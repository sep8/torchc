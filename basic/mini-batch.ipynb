{
 "cells": [
  {
   "cell_type": "code",
   "execution_count": 26,
   "metadata": {},
   "outputs": [],
   "source": [
    "import os\n",
    "import pandas as pd\n",
    "import torch\n",
    "from sklearn.preprocessing import LabelEncoder\n",
    "from torch.utils.data import DataLoader, Dataset"
   ]
  },
  {
   "cell_type": "code",
   "execution_count": 27,
   "metadata": {},
   "outputs": [],
   "source": [
    "class TitanicDataset(Dataset):\n",
    "    def __init__(self, path, test_path):\n",
    "      # Sex, Ticket, Cabin, Embarked\n",
    "      x_headers = ['Pclass','Age','SibSp','Parch', 'Fare']\n",
    "      y_headers = ['Survived']\n",
    "      data = pd.read_csv(path)\n",
    "      x_data = data.loc[:, x_headers].ffill(0)\n",
    "      if(test_path != None):\n",
    "        test_data = pd.read_csv(test_path)\n",
    "        y_data = test_data.loc[:, y_headers].ffill(0)\n",
    "      else:\n",
    "        y_data = data.loc[:, y_headers]\n",
    "      self.len = len(x_data)\n",
    "      self.x_data = torch.from_numpy(x_data.to_numpy()).float()\n",
    "      self.y_data = torch.from_numpy(y_data.to_numpy()).float()\n",
    "\n",
    "    def __getitem__(self, index): \n",
    "        return self.x_data[index], self.y_data[index]\n",
    "\n",
    "    def __len__(self):\n",
    "        return self.len"
   ]
  },
  {
   "cell_type": "code",
   "execution_count": 33,
   "metadata": {},
   "outputs": [
    {
     "name": "stderr",
     "output_type": "stream",
     "text": [
      "/var/folders/54/mjyp15vd0xx14_pf4h693504mkk7tr/T/ipykernel_15001/4162853595.py:7: FutureWarning: In a future version of pandas all arguments of DataFrame.ffill will be keyword-only\n",
      "  x_data = data.loc[:, x_headers].ffill(0)\n",
      "/var/folders/54/mjyp15vd0xx14_pf4h693504mkk7tr/T/ipykernel_15001/4162853595.py:10: FutureWarning: In a future version of pandas all arguments of DataFrame.ffill will be keyword-only\n",
      "  y_data = test_data.loc[:, y_headers].ffill(0)\n"
     ]
    }
   ],
   "source": [
    "train_dataset = TitanicDataset(os.path.join('../../tmp/titanic', 'train.csv'), None)\n",
    "test_dataset = TitanicDataset(os.path.join('../../tmp/titanic', 'test.csv'), os.path.join('../../tmp/titanic', 'gender_submission.csv'))\n",
    "\n",
    "train_loader = DataLoader(train_dataset, batch_size=32, shuffle=True, num_workers=2)\n",
    "test_loader = DataLoader(test_dataset, batch_size=32, shuffle=False)"
   ]
  },
  {
   "cell_type": "code",
   "execution_count": 29,
   "metadata": {},
   "outputs": [],
   "source": [
    "test_data = [\n",
    "  [[3., 34.5, 0., 0., 7.8292], 0.],\n",
    "  [[3., 47., 1., 0., 7.], 1.],\n",
    "  [[2., 62., 0., 0., 9.6875], 0.],\n",
    "  [[3., 27., 0., 0., 8.6625], 0.],\n",
    "]\n"
   ]
  },
  {
   "cell_type": "code",
   "execution_count": 30,
   "metadata": {},
   "outputs": [],
   "source": [
    "class SigmoidRegressionModel(torch.nn.Module):\n",
    "  def __init__(self):\n",
    "    super(SigmoidRegressionModel, self).__init__()\n",
    "    self.linear1 = torch.nn.Linear(5, 3)\n",
    "    self.linear2 = torch.nn.Linear(3, 1)\n",
    "    self.sigmoid = torch.nn.Sigmoid()\n",
    "  \n",
    "  def forward(self, x):\n",
    "    x = self.linear1(x)\n",
    "    x = self.linear2(x)\n",
    "    y_pred = self.sigmoid(x)\n",
    "    return y_pred\n",
    "    \n",
    "model = SigmoidRegressionModel()"
   ]
  },
  {
   "cell_type": "code",
   "execution_count": 31,
   "metadata": {},
   "outputs": [
    {
     "name": "stdout",
     "output_type": "stream",
     "text": [
      "Before training:  tensor([0.5396], grad_fn=<SigmoidBackward0>)\n",
      "0 1.0179766416549683\n",
      "10 3.783785820007324\n",
      "20 0.6717469096183777\n",
      "30 0.6240926384925842\n",
      "40 0.6350038051605225\n",
      "50 0.6556601524353027\n",
      "60 0.6402060985565186\n",
      "70 0.5641464591026306\n",
      "80 0.6357682943344116\n",
      "90 0.5458234548568726\n",
      "100 0.6276463270187378\n",
      "110 0.6098113059997559\n",
      "120 0.5688248872756958\n",
      "130 0.6414803266525269\n",
      "140 0.5709202289581299\n",
      "150 0.6113878488540649\n",
      "160 0.5528122186660767\n",
      "170 0.6780524253845215\n",
      "180 0.7277050018310547\n",
      "190 0.5265395641326904\n",
      "After training:  tensor([0.2906], grad_fn=<SigmoidBackward0>)\n"
     ]
    }
   ],
   "source": [
    "criterion = torch.nn.BCELoss(reduction='mean')\n",
    "optimizer = torch.optim.SGD(model.parameters(), lr=0.0001)\n",
    "print('Before training: ', model(torch.tensor(test_data[0][0])))\n",
    "for epoch in range(200):\n",
    "  for i, (x, y) in enumerate(train_loader):\n",
    "    y_pred = model(x)\n",
    "    loss = criterion(y_pred, y)\n",
    "    if(epoch % 10 == 0 and i == 0):\n",
    "      print(epoch, loss.item())\n",
    "    optimizer.zero_grad()\n",
    "    loss.backward()\n",
    "    optimizer.step()\n",
    "\n",
    "print('After training: ', model(torch.tensor(test_data[0][0])))\n"
   ]
  },
  {
   "cell_type": "code",
   "execution_count": 32,
   "metadata": {},
   "outputs": [
    {
     "name": "stdout",
     "output_type": "stream",
     "text": [
      "Test Error: \n",
      " Accuracy: 2022.0%, Avg loss: 0.623807 \n",
      "\n"
     ]
    }
   ],
   "source": [
    "device = 'cpu'\n",
    "size = len(test_loader.dataset)\n",
    "num_batches = len(test_loader)\n",
    "model.eval()\n",
    "test_loss, correct = 0, 0\n",
    "with torch.no_grad():\n",
    "    for X, y in test_loader:\n",
    "        X, y = X.to(device), y.to(device)\n",
    "        pred = model(X)\n",
    "        test_loss += criterion(pred, y).item()\n",
    "        correct += (pred.argmax(1) == y).type(torch.float).sum().item()\n",
    "test_loss /= num_batches\n",
    "correct /= size\n",
    "print(f\"Test Error: \\n Accuracy: {(100*correct):>0.1f}%, Avg loss: {test_loss:>8f} \\n\")"
   ]
  },
  {
   "cell_type": "code",
   "execution_count": null,
   "metadata": {},
   "outputs": [],
   "source": []
  }
 ],
 "metadata": {
  "kernelspec": {
   "display_name": "Python 3.9.13 ('nlp1')",
   "language": "python",
   "name": "python3"
  },
  "language_info": {
   "codemirror_mode": {
    "name": "ipython",
    "version": 3
   },
   "file_extension": ".py",
   "mimetype": "text/x-python",
   "name": "python",
   "nbconvert_exporter": "python",
   "pygments_lexer": "ipython3",
   "version": "3.9.13"
  },
  "orig_nbformat": 4,
  "vscode": {
   "interpreter": {
    "hash": "cafcd421542e6e6c8bedbe6ca75099d667dcf6adf012133211d75d30f397270f"
   }
  }
 },
 "nbformat": 4,
 "nbformat_minor": 2
}
