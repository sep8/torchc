{
 "cells": [
  {
   "cell_type": "code",
   "execution_count": 18,
   "metadata": {},
   "outputs": [],
   "source": [
    "import numpy as np\n",
    "import matplotlib.pyplot as plt"
   ]
  },
  {
   "cell_type": "code",
   "execution_count": 19,
   "metadata": {},
   "outputs": [],
   "source": [
    "x_data = [1.0, 2.0, 3.0]\n",
    "y_data = [2.0, 4.0, 6.0]"
   ]
  },
  {
   "cell_type": "code",
   "execution_count": 20,
   "metadata": {},
   "outputs": [],
   "source": [
    "w = 1.0"
   ]
  },
  {
   "cell_type": "code",
   "execution_count": 21,
   "metadata": {},
   "outputs": [],
   "source": [
    "def forward(x):\n",
    "    return x * w"
   ]
  },
  {
   "cell_type": "code",
   "execution_count": 22,
   "metadata": {},
   "outputs": [],
   "source": [
    "def lost(x, y):\n",
    "    y_pred = forward(x)\n",
    "    return (y_pred - y) ** 2\n",
    "    "
   ]
  },
  {
   "cell_type": "code",
   "execution_count": 23,
   "metadata": {},
   "outputs": [],
   "source": [
    "def gradient(x, y):\n",
    "    return 2 * x * (x * w - y)"
   ]
  },
  {
   "cell_type": "code",
   "execution_count": 26,
   "metadata": {},
   "outputs": [
    {
     "name": "stdout",
     "output_type": "stream",
     "text": [
      "predict (before training) 4 0.4\n",
      "Epoch:  0 w= 0.5953071999999999 loss= 17.75845676134656\n",
      "Epoch:  1 w= 0.9614937566463999 loss= 9.706456957359661\n",
      "Epoch:  2 w= 1.2322198722137632 loss= 5.305376921611051\n",
      "Epoch:  3 w= 1.4323709381661016 loss= 2.8998247665458856\n",
      "Epoch:  4 w= 1.580345023037457 loss= 1.5849926972048924\n",
      "Epoch:  5 w= 1.6897440396718684 loss= 0.8663288482721812\n",
      "Epoch:  6 w= 1.7706240454578883 loss= 0.47351995669894337\n",
      "Epoch:  7 w= 1.8304196042955623 loss= 0.2588175954654629\n",
      "Epoch:  8 w= 1.8746271784909607 loss= 0.14146509935823695\n",
      "Epoch:  9 w= 1.9073103685845092 loss= 0.07732230994745598\n",
      "Epoch:  10 w= 1.9314734432189506 loss= 0.04226300085839752\n",
      "Epoch:  11 w= 1.9493374942530888 loss= 0.02310020539700238\n",
      "Epoch:  12 w= 1.9625446015512396 loss= 0.012626161856598608\n",
      "Epoch:  13 w= 1.97230877446205 loss= 0.00690123574614253\n",
      "Epoch:  14 w= 1.979527544665087 loss= 0.003772092846960072\n",
      "Epoch:  15 w= 1.984864468101435 loss= 0.0020617589326723325\n",
      "Epoch:  16 w= 1.9888101196410082 loss= 0.0011269208020369586\n",
      "Epoch:  17 w= 1.9917271871720332 loss= 0.0006159548887791548\n",
      "Epoch:  18 w= 1.9938838102025302 loss= 0.00033666999874805767\n",
      "Epoch:  19 w= 1.9954782274884528 loss= 0.0001840178398156647\n",
      "Epoch:  20 w= 1.996656999320943 loss= 0.00010058088186157445\n",
      "Epoch:  21 w= 1.997528479481965 loss= 5.497572303961563e-05\n",
      "Epoch:  22 w= 1.9981727752227703 loss= 3.0048753478695626e-05\n",
      "Epoch:  23 w= 1.9986491107954967 loss= 1.6424114785592636e-05\n",
      "Epoch:  24 w= 1.9990012714004401 loss= 8.97712934020636e-06\n",
      "Epoch:  25 w= 1.9992616279616022 loss= 4.906739403790113e-06\n",
      "Epoch:  26 w= 1.9994541126915482 loss= 2.681936581760626e-06\n",
      "Epoch:  27 w= 1.999596418962214 loss= 1.465898886543563e-06\n",
      "Epoch:  28 w= 1.9997016276957924 loss= 8.012342872629476e-07\n",
      "Epoch:  29 w= 1.9997794097750317 loss= 4.3794042616454846e-07\n",
      "Epoch:  30 w= 1.9998369149995983 loss= 2.393704562041068e-07\n",
      "Epoch:  31 w= 1.999879429302183 loss= 1.30835638548492e-07\n",
      "Epoch:  32 w= 1.9999108606362554 loss= 7.15124355190493e-08\n",
      "Epoch:  33 w= 1.9999340981987113 loss= 3.9087426717813685e-08\n",
      "Epoch:  34 w= 1.9999512780074857 loss= 2.136449299104242e-08\n",
      "Epoch:  35 w= 1.9999639792462705 loss= 1.1677452293299158e-08\n",
      "Epoch:  36 w= 1.9999733694245185 loss= 6.38268795423188e-09\n",
      "Epoch:  37 w= 1.9999803116959798 loss= 3.4886638367581687e-09\n",
      "Epoch:  38 w= 1.9999854442005782 loss= 1.906841671263348e-09\n",
      "Epoch:  39 w= 1.999989238722818 loss= 1.0422457792810787e-09\n",
      "Epoch:  40 w= 1.9999920440586438 loss= 5.696730257538322e-10\n",
      "Epoch:  41 w= 1.9999941180770842 loss= 3.1137315469097693e-10\n",
      "Epoch:  42 w= 1.9999956514238053 loss= 1.7019103430084112e-10\n",
      "Epoch:  43 w= 1.9999967850454365 loss= 9.302339559729597e-11\n",
      "Epoch:  44 w= 1.9999976231455117 loss= 5.0844935328659835e-11\n",
      "Epoch:  45 w= 1.9999982427629546 loss= 2.7790938302141633e-11\n",
      "Epoch:  46 w= 1.9999987008535656 loss= 1.5190033119374994e-11\n",
      "Epoch:  47 w= 1.9999990395254512 loss= 8.302602229746983e-12\n",
      "Epoch:  48 w= 1.9999992899096404 loss= 4.538054868526689e-12\n",
      "Epoch:  49 w= 1.999999475021676 loss= 2.4804201653068744e-12\n",
      "Epoch:  50 w= 1.9999996118772254 loss= 1.3557535928546873e-12\n",
      "Epoch:  51 w= 1.9999997130561753 loss= 7.410308260421292e-13\n",
      "Epoch:  52 w= 1.999999787858987 loss= 4.0503428420529195e-13\n",
      "Epoch:  53 w= 1.9999998431616035 loss= 2.2138454352841517e-13\n",
      "Epoch:  54 w= 1.9999998840474915 loss= 1.2100485832198453e-13\n",
      "Epoch:  55 w= 1.999999914274919 loss= 6.613910555001183e-14\n",
      "Epoch:  56 w= 1.9999999366224188 loss= 3.6150460085185336e-14\n",
      "Epoch:  57 w= 1.9999999531441937 loss= 1.975919929500661e-14\n",
      "Epoch:  58 w= 1.9999999653589402 loss= 1.0800027215635539e-14\n",
      "Epoch:  59 w= 1.9999999743894488 loss= 5.90310304529832e-15\n",
      "Epoch:  60 w= 1.999999981065812 loss= 3.226531325808243e-15\n",
      "Epoch:  61 w= 1.9999999860017277 loss= 1.763564613970997e-15\n",
      "Epoch:  62 w= 1.9999999896509093 loss= 9.639331178059973e-16\n",
      "Epoch:  63 w= 1.999999992348793 loss= 5.268687273844647e-16\n",
      "Epoch:  64 w= 1.9999999943433708 loss= 2.8797708913662815e-16\n",
      "Epoch:  65 w= 1.9999999958179862 loss= 1.57403158298229e-16\n",
      "Epoch:  66 w= 1.999999996908187 loss= 8.603377019110831e-17\n",
      "Epoch:  67 w= 1.9999999977141856 loss= 4.702453138214317e-17\n",
      "Epoch:  68 w= 1.99999999831007 loss= 2.570276984518437e-17\n",
      "Epoch:  69 w= 1.9999999987506143 loss= 1.4048683445812022e-17\n",
      "Epoch:  70 w= 1.9999999990763142 loss= 7.678757792357359e-18\n",
      "Epoch:  71 w= 1.999999999317108 loss= 4.1970729251878274e-18\n",
      "Epoch:  72 w= 1.9999999994951296 loss= 2.2940454487036344e-18\n",
      "Epoch:  73 w= 1.9999999996267435 loss= 1.2538829857516157e-18\n",
      "Epoch:  74 w= 1.999999999724047 loss= 6.85349978329662e-19\n",
      "Epoch:  75 w= 1.9999999997959848 loss= 3.7459972512812705e-19\n",
      "Epoch:  76 w= 1.999999999849169 loss= 2.0475005446869194e-19\n",
      "Epoch:  77 w= 1.999999999888489 loss= 1.1191252209043902e-19\n",
      "Epoch:  78 w= 1.9999999999175586 loss= 6.116913085517366e-20\n",
      "Epoch:  79 w= 1.9999999999390503 loss= 3.343386331562452e-20\n",
      "Epoch:  80 w= 1.9999999999549392 loss= 1.8274316913374445e-20\n",
      "Epoch:  81 w= 1.999999999966686 loss= 9.988458667333365e-21\n",
      "Epoch:  82 w= 1.9999999999753706 loss= 5.459503178363171e-21\n",
      "Epoch:  83 w= 1.999999999981791 loss= 2.984057290959315e-21\n",
      "Epoch:  84 w= 1.9999999999865379 loss= 1.6310581485369427e-21\n",
      "Epoch:  85 w= 1.9999999999900473 loss= 8.914938302372396e-22\n",
      "Epoch:  86 w= 1.9999999999926417 loss= 4.872961965140747e-22\n",
      "Epoch:  87 w= 1.99999999999456 loss= 2.663514890768882e-22\n",
      "Epoch:  88 w= 1.999999999995978 loss= 1.4558603527405185e-22\n",
      "Epoch:  89 w= 1.9999999999970266 loss= 7.9565969504405e-23\n",
      "Epoch:  90 w= 1.9999999999978018 loss= 4.3490394742900144e-23\n",
      "Epoch:  91 w= 1.9999999999983749 loss= 2.3767685665573396e-23\n",
      "Epoch:  92 w= 1.9999999999987985 loss= 1.2990459671643902e-23\n",
      "Epoch:  93 w= 1.9999999999991116 loss= 7.104482101281338e-24\n",
      "Epoch:  94 w= 1.9999999999993432 loss= 3.880820155896493e-24\n",
      "Epoch:  95 w= 1.9999999999995144 loss= 2.1217202906824334e-24\n",
      "Epoch:  96 w= 1.999999999999641 loss= 1.160705481254135e-24\n",
      "Epoch:  97 w= 1.9999999999997347 loss= 6.333101564859118e-25\n",
      "Epoch:  98 w= 1.999999999999804 loss= 3.457135585476771e-25\n",
      "Epoch:  99 w= 1.999999999999855 loss= 1.8940550334356493e-25\n",
      "predict (after training) 4 7.99999999999942\n"
     ]
    }
   ],
   "source": [
    "w = 0.1\n",
    "print(\"predict (before training)\", 4, forward(4))\n",
    "epoces = range(300)\n",
    "losts = []\n",
    "for epoch in range(100):\n",
    "    for x, y in zip(x_data, y_data):\n",
    "        grad = gradient(x, y)\n",
    "        w = w - 0.01 * grad\n",
    "        # print(\"\\tgrad: \", x, y, grad)\n",
    "        l = lost(x, y)\n",
    "        losts.append(l)\n",
    "    print(\"Epoch: \", epoch, \"w=\", w, 'loss=', l)\n",
    "print(\"predict (after training)\", 4, forward(4))"
   ]
  },
  {
   "cell_type": "code",
   "execution_count": 27,
   "metadata": {},
   "outputs": [
    {
     "data": {
      "image/png": "[encoded data removed]",
      "text/plain": [
       "<Figure size 432x288 with 1 Axes>"
      ]
     },
     "metadata": {
      "needs_background": "light"
     },
     "output_type": "display_data"
    }
   ],
   "source": [
    "plt.plot(epoces, losts)\n",
    "plt.ylabel('Loss')\n",
    "plt.xlabel('epoces')\n",
    "plt.show()"
   ]
  },
  {
   "cell_type": "code",
   "execution_count": null,
   "metadata": {},
   "outputs": [],
   "source": []
  }
 ],
 "metadata": {
  "kernelspec": {
   "display_name": "Python 3.10.0 64-bit",
   "language": "python",
   "name": "python3"
  },
  "language_info": {
   "codemirror_mode": {
    "name": "ipython",
    "version": 3
   },
   "file_extension": ".py",
   "mimetype": "text/x-python",
   "name": "python",
   "nbconvert_exporter": "python",
   "pygments_lexer": "ipython3",
   "version": "3.10.0"
  },
  "orig_nbformat": 4,
  "vscode": {
   "interpreter": {
    "hash": "aee8b7b246df8f9039afb4144a1f6fd8d2ca17a180786b69acc140d282b71a49"
   }
  }
 },
 "nbformat": 4,
 "nbformat_minor": 2
}
