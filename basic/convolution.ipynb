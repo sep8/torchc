{
 "cells": [
  {
   "cell_type": "code",
   "execution_count": 16,
   "metadata": {},
   "outputs": [],
   "source": [
    "import torch"
   ]
  },
  {
   "cell_type": "code",
   "execution_count": 17,
   "metadata": {},
   "outputs": [
    {
     "name": "stdout",
     "output_type": "stream",
     "text": [
      "torch.Size([1, 5, 100, 100])\n",
      "torch.Size([1, 10, 98, 98])\n",
      "torch.Size([10, 5, 3, 3])\n"
     ]
    }
   ],
   "source": [
    "in_channels, out_channels = 5, 10\n",
    "width, height = 100, 100\n",
    "kernel_size = 3\n",
    "batch_size = 1\n",
    "\n",
    "# Create a random input tensor\n",
    "input = torch.randn(batch_size, in_channels, width, height)\n",
    "\n",
    "conv_layer = torch.nn.Conv2d(in_channels, out_channels, kernel_size)\n",
    "\n",
    "output = conv_layer(input)\n",
    "\n",
    "print(input.shape)\n",
    "print(output.shape)\n",
    "print(conv_layer.weight.shape)"
   ]
  },
  {
   "cell_type": "code",
   "execution_count": 19,
   "metadata": {},
   "outputs": [
    {
     "name": "stdout",
     "output_type": "stream",
     "text": [
      "tensor([[[[3., 4., 6., 5., 7.],\n",
      "          [2., 4., 6., 8., 2.],\n",
      "          [1., 6., 7., 8., 4.],\n",
      "          [9., 7., 4., 6., 2.],\n",
      "          [3., 7., 5., 4., 1.]]]])\n",
      "tensor([[[[1., 2., 3.],\n",
      "          [4., 5., 6.],\n",
      "          [7., 8., 9.]]]])\n",
      "tensor([[[[ 91., 168., 224., 215., 127.],\n",
      "          [114., 211., 295., 262., 149.],\n",
      "          [192., 259., 282., 214., 122.],\n",
      "          [194., 251., 253., 169.,  86.],\n",
      "          [ 96., 112., 110.,  68.,  31.]]]], grad_fn=<ConvolutionBackward0>)\n"
     ]
    }
   ],
   "source": [
    "input = [\n",
    "    3, 4, 6, 5, 7,\n",
    "    2, 4, 6, 8, 2,\n",
    "    1, 6, 7, 8, 4,\n",
    "    9, 7, 4, 6, 2,\n",
    "    3, 7, 5, 4, 1\n",
    "]\n",
    "input = torch.tensor(input).reshape(1, 1, 5, 5).float()\n",
    "print(input)\n",
    "\n",
    "conv_layer = torch.nn.Conv2d(1, 1, 3, padding=1, bias=False)\n",
    "\n",
    "kernel = torch.tensor([1, 2, 3, 4, 5, 6, 7, 8, 9]).reshape(1, 1, 3, 3).float()\n",
    "print(kernel)\n",
    "\n",
    "conv_layer.weight.data = kernel.data\n",
    "\n",
    "output = conv_layer(input)\n",
    "print(output)\n"
   ]
  }
 ],
 "metadata": {
  "kernelspec": {
   "display_name": "Python 3.9.13 ('torch')",
   "language": "python",
   "name": "python3"
  },
  "language_info": {
   "codemirror_mode": {
    "name": "ipython",
    "version": 3
   },
   "file_extension": ".py",
   "mimetype": "text/x-python",
   "name": "python",
   "nbconvert_exporter": "python",
   "pygments_lexer": "ipython3",
   "version": "3.9.13"
  },
  "orig_nbformat": 4,
  "vscode": {
   "interpreter": {
    "hash": "e4670fb8ce984b94d35f99e9f6e3660635f3fa9b149816d0027b93d0ab56905c"
   }
  }
 },
 "nbformat": 4,
 "nbformat_minor": 2
}
