{
 "cells": [
  {
   "cell_type": "code",
   "execution_count": 1,
   "metadata": {},
   "outputs": [],
   "source": [
    "import torch"
   ]
  },
  {
   "cell_type": "code",
   "execution_count": 2,
   "metadata": {},
   "outputs": [
    {
     "name": "stdout",
     "output_type": "stream",
     "text": [
      "torch.Size([1, 5, 100, 100])\n",
      "torch.Size([1, 10, 98, 98])\n",
      "torch.Size([10, 5, 3, 3])\n"
     ]
    }
   ],
   "source": [
    "in_channels, out_channels = 5, 10\n",
    "width, height = 100, 100\n",
    "kernel_size = 3\n",
    "batch_size = 1\n",
    "\n",
    "# Create a random input tensor\n",
    "input = torch.randn(batch_size, in_channels, width, height)\n",
    "\n",
    "conv_layer = torch.nn.Conv2d(in_channels, out_channels, kernel_size)\n",
    "\n",
    "output = conv_layer(input)\n",
    "\n",
    "print(input.shape)\n",
    "print(output.shape)\n",
    "print(conv_layer.weight.shape)"
   ]
  },
  {
   "cell_type": "code",
   "execution_count": 6,
   "metadata": {},
   "outputs": [
    {
     "name": "stdout",
     "output_type": "stream",
     "text": [
      "torch.Size([1, 1, 5, 5])\n",
      "tensor([[[[211., 262.],\n",
      "          [251., 169.]]]], grad_fn=<ConvolutionBackward0>)\n",
      "torch.Size([1, 1, 2, 2])\n",
      "torch.Size([1, 1, 3, 3])\n"
     ]
    }
   ],
   "source": [
    "input = [\n",
    "    3, 4, 6, 5, 7,\n",
    "    2, 4, 6, 8, 2,\n",
    "    1, 6, 7, 8, 4,\n",
    "    9, 7, 4, 6, 2,\n",
    "    3, 7, 5, 4, 1\n",
    "]\n",
    "input = torch.tensor(input).reshape(1, 1, 5, 5).float()\n",
    "\n",
    "conv_layer = torch.nn.Conv2d(1, 1, 3, padding=0, stride=2, bias=False)\n",
    "\n",
    "kernel = torch.tensor([1, 2, 3, 4, 5, 6, 7, 8, 9]).reshape(1, 1, 3, 3).float()\n",
    "\n",
    "conv_layer.weight.data = kernel.data\n",
    "\n",
    "output = conv_layer(input)\n",
    "\n",
    "print(input.shape)\n",
    "print(output)\n",
    "print(output.shape)\n",
    "print(conv_layer.weight.shape)\n"
   ]
  },
  {
   "cell_type": "code",
   "execution_count": 8,
   "metadata": {},
   "outputs": [
    {
     "name": "stdout",
     "output_type": "stream",
     "text": [
      "torch.Size([1, 1, 4, 4])\n",
      "tensor([[[[4., 8.],\n",
      "          [9., 8.]]]])\n",
      "torch.Size([1, 1, 2, 2])\n"
     ]
    }
   ],
   "source": [
    "input = [\n",
    "  3, 4, 6, 5,\n",
    "  2, 4, 6, 8,\n",
    "  1, 6, 7, 8,\n",
    "  9, 7, 4, 6\n",
    "]\n",
    "input = torch.tensor(input).reshape(1, 1, 4, 4).float()\n",
    "\n",
    "maxpolling_layer = torch.nn.MaxPool2d(2)\n",
    "\n",
    "output = maxpolling_layer(input)\n",
    "\n",
    "print(output)\n",
    "print(output.shape)"
   ]
  },
  {
   "cell_type": "code",
   "execution_count": null,
   "metadata": {},
   "outputs": [],
   "source": []
  }
 ],
 "metadata": {
  "kernelspec": {
   "display_name": "Python 3.9.13 ('torch')",
   "language": "python",
   "name": "python3"
  },
  "language_info": {
   "codemirror_mode": {
    "name": "ipython",
    "version": 3
   },
   "file_extension": ".py",
   "mimetype": "text/x-python",
   "name": "python",
   "nbconvert_exporter": "python",
   "pygments_lexer": "ipython3",
   "version": "3.9.13"
  },
  "orig_nbformat": 4,
  "vscode": {
   "interpreter": {
    "hash": "e4670fb8ce984b94d35f99e9f6e3660635f3fa9b149816d0027b93d0ab56905c"
   }
  }
 },
 "nbformat": 4,
 "nbformat_minor": 2
}
