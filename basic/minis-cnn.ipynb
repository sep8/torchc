{
 "cells": [
  {
   "cell_type": "code",
   "execution_count": 1,
   "metadata": {},
   "outputs": [],
   "source": [
    "import torch\n",
    "from torchvision import datasets, transforms\n",
    "from torch.utils.data import DataLoader\n",
    "import torch.nn.functional as F\n",
    "import torch.optim as optim"
   ]
  },
  {
   "cell_type": "code",
   "execution_count": 2,
   "metadata": {},
   "outputs": [],
   "source": [
    "batch_size = 64\n",
    "transform = transforms.Compose([transforms.ToTensor(), transforms.Normalize((0.1307,), (0.3081))])"
   ]
  },
  {
   "cell_type": "code",
   "execution_count": 3,
   "metadata": {},
   "outputs": [],
   "source": [
    "train_dataset = datasets.MNIST(root='../dataset/mnist/', train=True, download=True, transform=transform)\n",
    "train_loader = DataLoader(train_dataset, batch_size=batch_size, shuffle=True)\n",
    "\n",
    "train_dataset = datasets.MNIST(root='../dataset/mnist/', train=False, download=True, transform=transform)\n",
    "test_loader = DataLoader(train_dataset, batch_size=batch_size, shuffle=False)"
   ]
  },
  {
   "cell_type": "code",
   "execution_count": 4,
   "metadata": {},
   "outputs": [],
   "source": [
    "class Net(torch.nn.Module):\n",
    "  def __init__(self):\n",
    "    super(Net, self).__init__()\n",
    "    self.conv1 = torch.nn.Conv2d(1, 10, kernel_size=5)\n",
    "    self.polling = torch.nn.MaxPool2d(2)\n",
    "    self.conv2 = torch.nn.Conv2d(10, 20, kernel_size=5)\n",
    "    self.linear = torch.nn.Linear(320, 10)\n",
    "\n",
    "\n",
    "  def forward(self, x):\n",
    "    batch_size = x.size(0)\n",
    "    x = F.relu(self.polling(self.conv1(x)))\n",
    "    x = F.relu(self.polling(self.conv2(x)))\n",
    "    x = x.view(batch_size, -1)\n",
    "    x = self.linear(x)\n",
    "    return x\n",
    "\n",
    "model = Net()"
   ]
  },
  {
   "cell_type": "code",
   "execution_count": 5,
   "metadata": {},
   "outputs": [],
   "source": [
    "criterion = torch.nn.CrossEntropyLoss()\n",
    "optimizer = optim.SGD(model.parameters(), lr=0.01, momentum=0.5)"
   ]
  },
  {
   "cell_type": "code",
   "execution_count": 7,
   "metadata": {},
   "outputs": [],
   "source": [
    "def train(epoch):\n",
    "  running_loss = 0.0\n",
    "  for i, data in enumerate(train_loader, 0):\n",
    "    inputs, target = data\n",
    "    optimizer.zero_grad()\n",
    "\n",
    "    output = model(inputs)\n",
    "    loss = criterion(output, target)\n",
    "    loss.backward()\n",
    "    optimizer.step()\n",
    "\n",
    "    running_loss += loss.item()\n",
    "\n",
    "    if i % 300 == 299:\n",
    "      print('[%d, %5d] loss: %.3f' % (epoch + 1, i + 1, running_loss / 300))\n",
    "      running_loss = 0.0"
   ]
  },
  {
   "cell_type": "code",
   "execution_count": 8,
   "metadata": {},
   "outputs": [],
   "source": [
    "def test():\n",
    "  correct = 0\n",
    "  total = 0\n",
    "  with torch.no_grad():\n",
    "    for data in test_loader:\n",
    "      images, labels = data\n",
    "      outputs = model(images)\n",
    "      _, predicted = torch.max(outputs.data, 1)\n",
    "      total += labels.size(0)\n",
    "      correct += (predicted == labels).sum().item()\n",
    "\n",
    "  print('Accuracy of the network on the test images: %d %%' % (100 * correct / total))"
   ]
  },
  {
   "cell_type": "code",
   "execution_count": 9,
   "metadata": {},
   "outputs": [
    {
     "name": "stdout",
     "output_type": "stream",
     "text": [
      "[1,   300] loss: 0.598\n",
      "[1,   600] loss: 0.205\n",
      "[1,   900] loss: 0.141\n",
      "Accuracy of the network on the test images: 97 %\n",
      "[2,   300] loss: 0.106\n",
      "[2,   600] loss: 0.097\n",
      "[2,   900] loss: 0.094\n",
      "Accuracy of the network on the test images: 97 %\n",
      "[3,   300] loss: 0.081\n",
      "[3,   600] loss: 0.072\n",
      "[3,   900] loss: 0.073\n",
      "Accuracy of the network on the test images: 98 %\n",
      "[4,   300] loss: 0.061\n",
      "[4,   600] loss: 0.062\n",
      "[4,   900] loss: 0.064\n",
      "Accuracy of the network on the test images: 98 %\n",
      "[5,   300] loss: 0.059\n",
      "[5,   600] loss: 0.052\n",
      "[5,   900] loss: 0.052\n",
      "Accuracy of the network on the test images: 98 %\n",
      "[6,   300] loss: 0.049\n",
      "[6,   600] loss: 0.050\n",
      "[6,   900] loss: 0.049\n",
      "Accuracy of the network on the test images: 98 %\n",
      "[7,   300] loss: 0.042\n",
      "[7,   600] loss: 0.047\n",
      "[7,   900] loss: 0.044\n",
      "Accuracy of the network on the test images: 98 %\n",
      "[8,   300] loss: 0.042\n",
      "[8,   600] loss: 0.041\n",
      "[8,   900] loss: 0.042\n",
      "Accuracy of the network on the test images: 98 %\n",
      "[9,   300] loss: 0.037\n",
      "[9,   600] loss: 0.037\n",
      "[9,   900] loss: 0.043\n",
      "Accuracy of the network on the test images: 98 %\n",
      "[10,   300] loss: 0.036\n",
      "[10,   600] loss: 0.035\n",
      "[10,   900] loss: 0.038\n",
      "Accuracy of the network on the test images: 98 %\n"
     ]
    }
   ],
   "source": [
    "for epoch in range(10):\n",
    "  train(epoch)\n",
    "  test()"
   ]
  },
  {
   "cell_type": "code",
   "execution_count": null,
   "metadata": {},
   "outputs": [],
   "source": []
  }
 ],
 "metadata": {
  "kernelspec": {
   "display_name": "Python 3.9.13 ('torch')",
   "language": "python",
   "name": "python3"
  },
  "language_info": {
   "codemirror_mode": {
    "name": "ipython",
    "version": 3
   },
   "file_extension": ".py",
   "mimetype": "text/x-python",
   "name": "python",
   "nbconvert_exporter": "python",
   "pygments_lexer": "ipython3",
   "version": "3.9.13"
  },
  "orig_nbformat": 4,
  "vscode": {
   "interpreter": {
    "hash": "e4670fb8ce984b94d35f99e9f6e3660635f3fa9b149816d0027b93d0ab56905c"
   }
  }
 },
 "nbformat": 4,
 "nbformat_minor": 2
}
