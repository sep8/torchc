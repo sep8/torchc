{
 "cells": [
  {
   "cell_type": "code",
   "execution_count": 1,
   "metadata": {},
   "outputs": [],
   "source": [
    "import torch"
   ]
  },
  {
   "cell_type": "code",
   "execution_count": 2,
   "metadata": {},
   "outputs": [],
   "source": [
    "num_class = 4\n",
    "input_size = 4\n",
    "hidden_size = 8\n",
    "embeding_size = 10\n",
    "num_layers = 2\n",
    "batch_size = 1\n",
    "seq_len = 5"
   ]
  },
  {
   "cell_type": "code",
   "execution_count": null,
   "metadata": {},
   "outputs": [],
   "source": [
    "class Model(torch.nn.Module):\n",
    "  def __init__(self):\n",
    "    super(Model, self).__init__()\n",
    "    self.emb = torch.nn.Embedding(input_size, embeding_size)\n",
    "    self.rnn = torch.nn.RNN(input_size=input_size, hidden_size=hidden_size, num_layers=num_layers, batch_first=True)\n",
    "    self.fc = torch.nn.Linear(hidden_size, num_class)\n",
    "  \n",
    "  def forward(self, x):\n",
    "    hidden = torch.zeros(num_layers, x.size(0), self.hidden_size)\n",
    "    x = self.emb(x)\n",
    "    x, _ = self.rnn(x, hidden)\n",
    "    x = self.fc(x)\n",
    "    return x.view(-1, num_class)\n",
    "\n",
    "\n",
    "net = Model(input_size, hidden_size, batch_size)"
   ]
  },
  {
   "cell_type": "code",
   "execution_count": 17,
   "metadata": {},
   "outputs": [
    {
     "name": "stdout",
     "output_type": "stream",
     "text": [
      "[[0, 1, 0, 0], [1, 0, 0, 0], [0, 0, 1, 0], [0, 0, 1, 0], [0, 0, 0, 1]]\n",
      "tensor([[[0., 1., 0., 0.]],\n",
      "\n",
      "        [[1., 0., 0., 0.]],\n",
      "\n",
      "        [[0., 0., 1., 0.]],\n",
      "\n",
      "        [[0., 0., 1., 0.]],\n",
      "\n",
      "        [[0., 0., 0., 1.]]])\n",
      "tensor([3, 1, 2, 3, 2])\n"
     ]
    }
   ],
   "source": [
    "index2char = ['e', 'h', 'l', 'o']\n",
    "x_data = [1, 0, 2, 2, 3]\n",
    "y_data = [3, 1, 2, 3, 2]\n",
    "\n",
    "one_hot_lookup = [[1, 0, 0, 0],\n",
    "                  [0, 1, 0, 0],\n",
    "                  [0, 0, 1, 0],\n",
    "                  [0, 0, 0, 1]]\n",
    "\n",
    "x_one_hot = [one_hot_lookup[x] for x in x_data]\n",
    "print(x_one_hot)\n",
    "\n",
    "inputs = torch.tensor(x_one_hot).view(seq_len, batch_size, input_size).float()\n",
    "print(inputs)\n",
    "\n",
    "labels = torch.LongTensor(y_data)\n",
    "print(labels)"
   ]
  },
  {
   "cell_type": "code",
   "execution_count": 14,
   "metadata": {},
   "outputs": [],
   "source": [
    "class Model(torch.nn.Module):\n",
    "  def __init__(self, input_size, hidden_size, batch_size, num_layers=1):\n",
    "    super(Model, self).__init__()\n",
    "    self.input_size = input_size\n",
    "    self.hidden_size = hidden_size\n",
    "    self.batch_size = batch_size\n",
    "    self.num_layers = num_layers\n",
    "    self.rnn = torch.nn.RNN(input_size=self.input_size, hidden_size=self.hidden_size, num_layers=self.num_layers)\n",
    "  \n",
    "  def forward(self, inputs):\n",
    "    hidden = torch.zeros(self.num_layers, self.batch_size, self.hidden_size)\n",
    "    outout, _ = self.rnn(inputs, hidden)\n",
    "    return outout.view(-1, self.hidden_size)\n",
    "\n",
    "\n",
    "net = Model(input_size, hidden_size, batch_size)"
   ]
  },
  {
   "cell_type": "code",
   "execution_count": 15,
   "metadata": {},
   "outputs": [],
   "source": [
    "\n",
    "criterion= torch.nn.CrossEntropyLoss()\n",
    "optimizer = torch.optim.Adam(net.parameters(), lr=0.1)"
   ]
  },
  {
   "cell_type": "code",
   "execution_count": 18,
   "metadata": {},
   "outputs": [
    {
     "name": "stdout",
     "output_type": "stream",
     "text": [
      "Predicted:  eellh, Epoch [1/15] loss=1.502\n",
      "Predicted:  llllo, Epoch [2/15] loss=1.294\n",
      "Predicted:  ollol, Epoch [3/15] loss=1.144\n",
      "Predicted:  oolol, Epoch [4/15] loss=1.020\n",
      "Predicted:  oolol, Epoch [5/15] loss=0.914\n",
      "Predicted:  oolol, Epoch [6/15] loss=0.824\n",
      "Predicted:  ohool, Epoch [7/15] loss=0.774\n",
      "Predicted:  ohool, Epoch [8/15] loss=0.745\n",
      "Predicted:  ohool, Epoch [9/15] loss=0.716\n",
      "Predicted:  ohool, Epoch [10/15] loss=0.683\n",
      "Predicted:  ohool, Epoch [11/15] loss=0.651\n",
      "Predicted:  ohool, Epoch [12/15] loss=0.621\n",
      "Predicted:  ohool, Epoch [13/15] loss=0.594\n",
      "Predicted:  ohool, Epoch [14/15] loss=0.571\n",
      "Predicted:  ohool, Epoch [15/15] loss=0.551\n"
     ]
    }
   ],
   "source": [
    "\n",
    "for epoch in range(15):\n",
    "  optimizer.zero_grad()\n",
    "  outputs = net(inputs)\n",
    "  loss = criterion(outputs, labels)\n",
    "  loss.backward()\n",
    "  optimizer.step()\n",
    "\n",
    "  _, idx = outputs.max(dim=1)\n",
    "  idx = idx.data.numpy()\n",
    "\n",
    "  print('Predicted: ', ''.join([index2char[x] for x in idx]), end='')\n",
    "  print(', Epoch [%d/15] loss=%.3f' % (epoch + 1, loss.item()))\n",
    "  "
   ]
  }
 ],
 "metadata": {
  "kernelspec": {
   "display_name": "Python 3.9.13 ('torch')",
   "language": "python",
   "name": "python3"
  },
  "language_info": {
   "codemirror_mode": {
    "name": "ipython",
    "version": 3
   },
   "file_extension": ".py",
   "mimetype": "text/x-python",
   "name": "python",
   "nbconvert_exporter": "python",
   "pygments_lexer": "ipython3",
   "version": "3.9.13"
  },
  "orig_nbformat": 4,
  "vscode": {
   "interpreter": {
    "hash": "e4670fb8ce984b94d35f99e9f6e3660635f3fa9b149816d0027b93d0ab56905c"
   }
  }
 },
 "nbformat": 4,
 "nbformat_minor": 2
}
