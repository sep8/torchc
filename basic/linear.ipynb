{
 "cells": [
  {
   "cell_type": "code",
   "execution_count": 1,
   "metadata": {},
   "outputs": [],
   "source": [
    "import torch\n",
    "import matplotlib.pyplot as plt"
   ]
  },
  {
   "cell_type": "code",
   "execution_count": 2,
   "metadata": {},
   "outputs": [],
   "source": [
    "class LinearModel(torch.nn.Module):\n",
    "  def __init__(self):\n",
    "    super(LinearModel, self).__init__()\n",
    "    self.linear = torch.nn.Linear(1, 1)\n",
    "\n",
    "  def forward(self, x):\n",
    "    y_pred = self.linear(x)\n",
    "    return y_pred\n",
    "\n",
    "model = LinearModel()"
   ]
  },
  {
   "cell_type": "code",
   "execution_count": 3,
   "metadata": {},
   "outputs": [
    {
     "data": {
      "text/plain": [
       "Parameter containing:\n",
       "tensor([[-0.5171]], requires_grad=True)"
      ]
     },
     "execution_count": 3,
     "metadata": {},
     "output_type": "execute_result"
    }
   ],
   "source": [
    "next(model.parameters())"
   ]
  },
  {
   "cell_type": "code",
   "execution_count": 4,
   "metadata": {},
   "outputs": [],
   "source": [
    "x_data = torch.tensor([[1.0], [2.0], [3.0]])\n",
    "y_data = torch.tensor([[2.0], [4.0], [6.0]])"
   ]
  },
  {
   "cell_type": "code",
   "execution_count": 5,
   "metadata": {},
   "outputs": [],
   "source": [
    "criterion = torch.nn.MSELoss(reduction='sum')\n",
    "optimizer = torch.optim.SGD(model.parameters(), lr=0.01)\n",
    "for epoch in range(10):\n",
    "  y_pred = model(x_data)\n",
    "  loss = criterion(y_pred, y_data)\n",
    "  optimizer.zero_grad()\n",
    "  loss.backward()\n",
    "  optimizer.step()"
   ]
  },
  {
   "cell_type": "code",
   "execution_count": 30,
   "metadata": {},
   "outputs": [],
   "source": [
    "criterion = torch.nn.MSELoss(reduction='sum')\n",
    "optimizers = [('Adagrad', torch.optim.Adagrad(model.parameters(), lr=0.01)),\n",
    "              ('Adam', torch.optim.Adam(model.parameters(), lr=0.01)),\n",
    "              ('Adamax', torch.optim.Adamax(model.parameters(), lr=0.01)),\n",
    "              ('ASGD', torch.optim.ASGD(model.parameters(), lr=0.01)),\n",
    "              # ('LBFGS', torch.optim.LBFGS(model.parameters(), lr=0.01)),\n",
    "              ('RMSprop', torch.optim.RMSprop(model.parameters(), lr=0.01)),\n",
    "              ('Rprop', torch.optim.Rprop(model.parameters(), lr=0.01)),\n",
    "              ('SGD', torch.optim.SGD(model.parameters(), lr=0.01))]\n",
    "losses = {}\n",
    "for (name, optimizer) in optimizers:\n",
    "  losses[name] = []\n",
    "  for epoch in range(10):\n",
    "    y_pred = model(x_data)\n",
    "    loss = criterion(y_pred, y_data)\n",
    "    losses[name].append(loss.item())\n",
    "    optimizer.zero_grad()\n",
    "    loss.backward()\n",
    "    optimizer.step()"
   ]
  },
  {
   "cell_type": "code",
   "execution_count": 32,
   "metadata": {},
   "outputs": [
    {
     "data": {
      "image/png": "[encoded data removed]",
      "text/plain": [
       "<Figure size 432x288 with 1 Axes>"
      ]
     },
     "metadata": {
      "needs_background": "light"
     },
     "output_type": "display_data"
    }
   ],
   "source": [
    "plt.plot(losses['Adagrad'], label='Adagrad')\n",
    "plt.plot(losses['Adam'], label='Adam')\n",
    "plt.plot(losses['Adamax'], label='Adamax')\n",
    "plt.plot(losses['ASGD'], label='ASGD')\n",
    "plt.plot(losses['RMSprop'], label='RMSprop')\n",
    "plt.plot(losses['Rprop'], label='Rprop')\n",
    "plt.plot(losses['SGD'], label='SGD')\n",
    "plt.legend()\n",
    "plt.savefig('optimizers.png', dpi=1000)"
   ]
  },
  {
   "cell_type": "code",
   "execution_count": null,
   "metadata": {},
   "outputs": [],
   "source": []
  }
 ],
 "metadata": {
  "kernelspec": {
   "display_name": "Python 3.8.9 64-bit",
   "language": "python",
   "name": "python3"
  },
  "language_info": {
   "codemirror_mode": {
    "name": "ipython",
    "version": 3
   },
   "file_extension": ".py",
   "mimetype": "text/x-python",
   "name": "python",
   "nbconvert_exporter": "python",
   "pygments_lexer": "ipython3",
   "version": "3.8.9"
  },
  "orig_nbformat": 4,
  "vscode": {
   "interpreter": {
    "hash": "31f2aee4e71d21fbe5cf8b01ff0e069b9275f58929596ceb00d14d90e3e16cd6"
   }
  }
 },
 "nbformat": 4,
 "nbformat_minor": 2
}
