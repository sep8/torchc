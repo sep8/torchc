{
 "cells": [
  {
   "cell_type": "code",
   "execution_count": 1,
   "metadata": {},
   "outputs": [],
   "source": [
    "import torch"
   ]
  },
  {
   "cell_type": "code",
   "execution_count": 2,
   "metadata": {},
   "outputs": [],
   "source": [
    "batch_size = 1\n",
    "seq_len = 3\n",
    "input_size = 4\n",
    "hidden_size = 2"
   ]
  },
  {
   "cell_type": "code",
   "execution_count": 3,
   "metadata": {},
   "outputs": [],
   "source": [
    "cell = torch.nn.RNNCell(input_size=input_size, hidden_size=hidden_size)"
   ]
  },
  {
   "cell_type": "code",
   "execution_count": 4,
   "metadata": {},
   "outputs": [
    {
     "name": "stdout",
     "output_type": "stream",
     "text": [
      "torch.Size([3, 1, 4])\n"
     ]
    }
   ],
   "source": [
    "dataset = torch.randn(seq_len, batch_size, input_size)\n",
    "print(dataset.shape)"
   ]
  },
  {
   "cell_type": "code",
   "execution_count": 5,
   "metadata": {},
   "outputs": [
    {
     "name": "stdout",
     "output_type": "stream",
     "text": [
      "tensor([[0., 0.]])\n"
     ]
    }
   ],
   "source": [
    "hidden = torch.zeros(batch_size, hidden_size)\n",
    "print(hidden)"
   ]
  },
  {
   "cell_type": "code",
   "execution_count": 6,
   "metadata": {},
   "outputs": [
    {
     "name": "stdout",
     "output_type": "stream",
     "text": [
      "==================== 0 ====================\n",
      "input size:  torch.Size([1, 4])\n",
      "outputs size: torch.Size([1, 2])\n",
      "tensor([[0.8027, 0.5198]], grad_fn=<TanhBackward0>)\n",
      "==================== 1 ====================\n",
      "input size:  torch.Size([1, 4])\n",
      "outputs size: torch.Size([1, 2])\n",
      "tensor([[-0.3319, -0.8722]], grad_fn=<TanhBackward0>)\n",
      "==================== 2 ====================\n",
      "input size:  torch.Size([1, 4])\n",
      "outputs size: torch.Size([1, 2])\n",
      "tensor([[0.2885, 0.0455]], grad_fn=<TanhBackward0>)\n"
     ]
    }
   ],
   "source": [
    "for idx, input in enumerate(dataset):\n",
    "  print('=' * 20, idx, '='*20)\n",
    "  print('input size: ', input.shape)\n",
    "  hidden = cell(input, hidden)\n",
    "\n",
    "  print('outputs size:', hidden.shape)\n",
    "  print(hidden)"
   ]
  },
  {
   "cell_type": "code",
   "execution_count": 7,
   "metadata": {},
   "outputs": [],
   "source": [
    "batch_size = 1\n",
    "seq_len = 3\n",
    "input_size = 4\n",
    "hidden_size = 2\n",
    "num_layers = 1"
   ]
  },
  {
   "cell_type": "code",
   "execution_count": 8,
   "metadata": {},
   "outputs": [],
   "source": [
    "cell = torch.nn.RNN(input_size=input_size, hidden_size=hidden_size, num_layers=num_layers)"
   ]
  },
  {
   "cell_type": "code",
   "execution_count": 9,
   "metadata": {},
   "outputs": [
    {
     "name": "stdout",
     "output_type": "stream",
     "text": [
      "inputs tensor([[[ 0.7236,  1.3860, -0.1316, -0.0593]],\n",
      "\n",
      "        [[-0.7949, -0.0634,  1.1094, -0.5888]],\n",
      "\n",
      "        [[ 2.7299,  0.9197,  1.0787,  0.9876]]])\n",
      "hidden tensor([[[0., 0.]]])\n"
     ]
    }
   ],
   "source": [
    "inputs = torch.randn(seq_len, batch_size, input_size)\n",
    "print('inputs', inputs)\n",
    "hidden = torch.zeros(num_layers, batch_size, hidden_size)\n",
    "print('hidden', hidden)"
   ]
  },
  {
   "cell_type": "code",
   "execution_count": 10,
   "metadata": {},
   "outputs": [
    {
     "name": "stdout",
     "output_type": "stream",
     "text": [
      "Output size:  torch.Size([3, 1, 2])\n",
      "Output:  tensor([[[ 0.0468,  0.6008]],\n",
      "\n",
      "        [[-0.2627, -0.3966]],\n",
      "\n",
      "        [[-0.9603, -0.5755]]], grad_fn=<StackBackward0>)\n",
      "Hidden size:  torch.Size([1, 1, 2])\n",
      "Hidden:  tensor([[[-0.9603, -0.5755]]], grad_fn=<StackBackward0>)\n"
     ]
    }
   ],
   "source": [
    "output, hidden = cell(inputs, hidden)\n",
    "\n",
    "print('Output size: ', output.shape)\n",
    "print('Output: ', output)\n",
    "\n",
    "print('Hidden size: ', hidden.shape)\n",
    "print('Hidden: ', hidden)"
   ]
  }
 ],
 "metadata": {
  "kernelspec": {
   "display_name": "Python 3.9.13 ('torch')",
   "language": "python",
   "name": "python3"
  },
  "language_info": {
   "codemirror_mode": {
    "name": "ipython",
    "version": 3
   },
   "file_extension": ".py",
   "mimetype": "text/x-python",
   "name": "python",
   "nbconvert_exporter": "python",
   "pygments_lexer": "ipython3",
   "version": "3.9.13"
  },
  "orig_nbformat": 4,
  "vscode": {
   "interpreter": {
    "hash": "e4670fb8ce984b94d35f99e9f6e3660635f3fa9b149816d0027b93d0ab56905c"
   }
  }
 },
 "nbformat": 4,
 "nbformat_minor": 2
}
