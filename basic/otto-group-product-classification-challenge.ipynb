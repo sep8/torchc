{
 "cells": [
  {
   "cell_type": "code",
   "execution_count": 7,
   "metadata": {},
   "outputs": [],
   "source": [
    "import torch\n",
    "import pandas as pd\n",
    "from torch.utils.data import DataLoader, Dataset\n",
    "import torch.optim as optim"
   ]
  },
  {
   "cell_type": "code",
   "execution_count": 8,
   "metadata": {},
   "outputs": [],
   "source": [
    "def lables2id(lables):\n",
    "    target_id = []\n",
    "    target_lables = ['Class_1', 'Class_2', 'Class_3', 'Class_4', 'Class_5', 'Class_6', 'Class_7', 'Class_8', 'Class_9']\n",
    "    for lable in lables:\n",
    "        target_id.append(target_lables.index(lable))\n",
    "    return target_id\n",
    "\n",
    "class CLDataset(Dataset):\n",
    "  def __init__(self, path):\n",
    "    data = pd.read_csv(path)\n",
    "    x_data = data.drop(['id', 'target'], axis=1)\n",
    "    labels = data['target']\n",
    "    self.x_data = torch.from_numpy(x_data.to_numpy()).float()\n",
    "    self.y_data = torch.tensor(lables2id(labels)).long()\n",
    "    self.len = data.shape[0]\n",
    "\n",
    "  def __getitem__(self, index):\n",
    "    return self.x_data[index], self.y_data[index]\n",
    "  \n",
    "  def __len__(self):\n",
    "    return self.len"
   ]
  },
  {
   "cell_type": "code",
   "execution_count": 9,
   "metadata": {},
   "outputs": [],
   "source": [
    "dataset = CLDataset('../dataset/otto-group-product-classification-challenge/train.csv')\n",
    "train_dataset, test_dataset = torch.utils.data.random_split(dataset, [int(len(dataset)*0.8), len(dataset)-int(len(dataset)*0.8)])\n",
    "train_loader = DataLoader(train_dataset, batch_size=64, shuffle=True)\n",
    "test_loader = DataLoader(test_dataset, batch_size=64, shuffle=True)"
   ]
  },
  {
   "cell_type": "code",
   "execution_count": 10,
   "metadata": {},
   "outputs": [
    {
     "name": "stdout",
     "output_type": "stream",
     "text": [
      "Shape of X: torch.Size([64, 93])\n",
      "Shape of y: torch.Size([64]) torch.int64\n"
     ]
    }
   ],
   "source": [
    "for X, y in train_loader:\n",
    "    print(f\"Shape of X: {X.shape}\")\n",
    "    print(f\"Shape of y: {y.shape} {y.dtype}\")\n",
    "    break"
   ]
  },
  {
   "cell_type": "code",
   "execution_count": 11,
   "metadata": {},
   "outputs": [
    {
     "name": "stdout",
     "output_type": "stream",
     "text": [
      "Shape of X: torch.Size([64, 93])\n",
      "Shape of y: torch.Size([64]) torch.int64\n"
     ]
    }
   ],
   "source": [
    "for X, y in test_loader:\n",
    "    print(f\"Shape of X: {X.shape}\")\n",
    "    print(f\"Shape of y: {y.shape} {y.dtype}\")\n",
    "    break"
   ]
  },
  {
   "cell_type": "code",
   "execution_count": 12,
   "metadata": {},
   "outputs": [],
   "source": [
    "class Net(torch.nn.Module):\n",
    "  def __init__(self):\n",
    "    super(Net, self).__init__()\n",
    "    self.linear1 = torch.nn.Linear(93, 64)\n",
    "    self.linear2 = torch.nn.Linear(64, 32)\n",
    "    self.linear3 = torch.nn.Linear(32, 16)\n",
    "    self.linear4 = torch.nn.Linear(16, 9)\n",
    "    self.relu = torch.nn.ReLU()\n",
    "\n",
    "  def forward(self, x):\n",
    "    x = self.relu(self.linear1(x))\n",
    "    x = self.relu(self.linear2(x))\n",
    "    x = self.relu(self.linear3(x))\n",
    "    x = self.linear4(x)\n",
    "    return x\n",
    "   \n",
    "model = Net()"
   ]
  },
  {
   "cell_type": "code",
   "execution_count": 13,
   "metadata": {},
   "outputs": [],
   "source": [
    "criterion = torch.nn.CrossEntropyLoss()\n",
    "optimizer = optim.SGD(model.parameters(), lr=0.01, momentum=0.5)\n",
    "\n",
    "def train(epoch):\n",
    "  running_loss = 0.0\n",
    "  for batch_idx, (data, target) in enumerate(train_loader):\n",
    "    optimizer.zero_grad()\n",
    "    output = model(data)\n",
    "    loss = criterion(output, target)\n",
    "    loss.backward()\n",
    "    optimizer.step()\n",
    "\n",
    "    running_loss += loss.item()\n",
    "    if batch_idx % 100 == 99:\n",
    "      print('[%d, %5d] loss: %.3f' % (epoch + 1, batch_idx + 1, running_loss / 100))\n",
    "      running_loss = 0.0\n",
    "    "
   ]
  },
  {
   "cell_type": "code",
   "execution_count": 14,
   "metadata": {},
   "outputs": [],
   "source": [
    "def test():\n",
    "  correct = 0\n",
    "  total = 0\n",
    "  with torch.no_grad():\n",
    "    for data, target in test_loader:\n",
    "      output = model(data)\n",
    "      _, predicted = torch.max(output.data, 1)\n",
    "      total += target.size(0)\n",
    "      correct += (predicted == target).sum().item()\n",
    "  \n",
    "  print('Accuracy of the network on the test data: %d %%' % (100 * correct / total))"
   ]
  },
  {
   "cell_type": "code",
   "execution_count": 15,
   "metadata": {},
   "outputs": [
    {
     "name": "stdout",
     "output_type": "stream",
     "text": [
      "[1,   100] loss: 1.989\n",
      "[1,   200] loss: 1.614\n",
      "[1,   300] loss: 1.263\n",
      "[1,   400] loss: 1.079\n",
      "[1,   500] loss: 0.965\n",
      "[1,   600] loss: 0.898\n",
      "[1,   700] loss: 0.825\n",
      "Accuracy of the network on the test data: 73 %\n",
      "[2,   100] loss: 0.757\n",
      "[2,   200] loss: 0.763\n",
      "[2,   300] loss: 0.748\n",
      "[2,   400] loss: 0.725\n",
      "[2,   500] loss: 0.701\n",
      "[2,   600] loss: 0.743\n",
      "[2,   700] loss: 0.680\n",
      "Accuracy of the network on the test data: 72 %\n",
      "[3,   100] loss: 0.670\n",
      "[3,   200] loss: 0.698\n",
      "[3,   300] loss: 0.691\n",
      "[3,   400] loss: 0.681\n",
      "[3,   500] loss: 0.676\n",
      "[3,   600] loss: 0.694\n",
      "[3,   700] loss: 0.675\n",
      "Accuracy of the network on the test data: 75 %\n",
      "[4,   100] loss: 0.657\n",
      "[4,   200] loss: 0.670\n",
      "[4,   300] loss: 0.654\n",
      "[4,   400] loss: 0.674\n",
      "[4,   500] loss: 0.669\n",
      "[4,   600] loss: 0.643\n",
      "[4,   700] loss: 0.641\n",
      "Accuracy of the network on the test data: 75 %\n",
      "[5,   100] loss: 0.629\n",
      "[5,   200] loss: 0.641\n",
      "[5,   300] loss: 0.624\n",
      "[5,   400] loss: 0.643\n",
      "[5,   500] loss: 0.666\n",
      "[5,   600] loss: 0.639\n",
      "[5,   700] loss: 0.640\n",
      "Accuracy of the network on the test data: 76 %\n",
      "[6,   100] loss: 0.618\n",
      "[6,   200] loss: 0.616\n",
      "[6,   300] loss: 0.621\n",
      "[6,   400] loss: 0.622\n",
      "[6,   500] loss: 0.624\n",
      "[6,   600] loss: 0.622\n",
      "[6,   700] loss: 0.637\n",
      "Accuracy of the network on the test data: 76 %\n",
      "[7,   100] loss: 0.607\n",
      "[7,   200] loss: 0.614\n",
      "[7,   300] loss: 0.588\n",
      "[7,   400] loss: 0.617\n",
      "[7,   500] loss: 0.604\n",
      "[7,   600] loss: 0.614\n",
      "[7,   700] loss: 0.619\n",
      "Accuracy of the network on the test data: 77 %\n",
      "[8,   100] loss: 0.608\n",
      "[8,   200] loss: 0.607\n",
      "[8,   300] loss: 0.593\n",
      "[8,   400] loss: 0.594\n",
      "[8,   500] loss: 0.588\n",
      "[8,   600] loss: 0.597\n",
      "[8,   700] loss: 0.585\n",
      "Accuracy of the network on the test data: 77 %\n",
      "[9,   100] loss: 0.598\n",
      "[9,   200] loss: 0.572\n",
      "[9,   300] loss: 0.579\n",
      "[9,   400] loss: 0.584\n",
      "[9,   500] loss: 0.580\n",
      "[9,   600] loss: 0.590\n",
      "[9,   700] loss: 0.602\n",
      "Accuracy of the network on the test data: 77 %\n",
      "[10,   100] loss: 0.576\n",
      "[10,   200] loss: 0.590\n",
      "[10,   300] loss: 0.551\n",
      "[10,   400] loss: 0.562\n",
      "[10,   500] loss: 0.558\n",
      "[10,   600] loss: 0.590\n",
      "[10,   700] loss: 0.587\n",
      "Accuracy of the network on the test data: 77 %\n"
     ]
    }
   ],
   "source": [
    "for epoch in range(10):\n",
    "  train(epoch)\n",
    "  test()"
   ]
  }
 ],
 "metadata": {
  "kernelspec": {
   "display_name": "Python 3.9.13 ('torch')",
   "language": "python",
   "name": "python3"
  },
  "language_info": {
   "codemirror_mode": {
    "name": "ipython",
    "version": 3
   },
   "file_extension": ".py",
   "mimetype": "text/x-python",
   "name": "python",
   "nbconvert_exporter": "python",
   "pygments_lexer": "ipython3",
   "version": "3.9.13"
  },
  "orig_nbformat": 4,
  "vscode": {
   "interpreter": {
    "hash": "e4670fb8ce984b94d35f99e9f6e3660635f3fa9b149816d0027b93d0ab56905c"
   }
  }
 },
 "nbformat": 4,
 "nbformat_minor": 2
}
