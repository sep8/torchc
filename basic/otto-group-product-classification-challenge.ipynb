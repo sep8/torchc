{
 "cells": [
  {
   "cell_type": "code",
   "execution_count": 76,
   "metadata": {},
   "outputs": [],
   "source": [
    "import torch\n",
    "import pandas as pd\n",
    "from torch.utils.data import DataLoader, Dataset\n",
    "import torch.optim as optim"
   ]
  },
  {
   "cell_type": "code",
   "execution_count": 77,
   "metadata": {},
   "outputs": [],
   "source": [
    "def lables2id(lables):\n",
    "    target_id = []\n",
    "    target_lables = ['Class_1', 'Class_2', 'Class_3', 'Class_4', 'Class_5', 'Class_6', 'Class_7', 'Class_8', 'Class_9']\n",
    "    for lable in lables:\n",
    "        target_id.append(target_lables.index(lable))\n",
    "    return target_id\n",
    "\n",
    "class CLDataset(Dataset):\n",
    "  def __init__(self, path, label_path):\n",
    "    data = pd.read_csv(path)\n",
    "    if(label_path != None):\n",
    "      x_data = data.drop(['id'], axis=1).loc[10000, :]\n",
    "    else:\n",
    "      x_data = data.drop(['id', 'target'], axis=1)\n",
    "    if(label_path != None):\n",
    "      labels_data = pd.read_csv(label_path)\n",
    "      labels = labels_data.drop(['id'], axis=1)\n",
    "    else:\n",
    "      labels = data['target']\n",
    "    self.x_data = torch.from_numpy(x_data.to_numpy()).float()\n",
    "    self.y_data = torch.Tensor(lables2id(labels)).long()\n",
    "    self.len = data.shape[0]\n",
    "\n",
    "  def __getitem__(self, index):\n",
    "    return self.x_data[index], self.y_data[index]\n",
    "  \n",
    "  def __len__(self):\n",
    "    return self.len"
   ]
  },
  {
   "cell_type": "code",
   "execution_count": 78,
   "metadata": {},
   "outputs": [],
   "source": [
    "train_dataset = CLDataset('../dataset/otto-group-product-classification-challenge/train.csv', None)\n",
    "train_loader = DataLoader(train_dataset, batch_size=64, shuffle=True)\n",
    "\n",
    "test_dataset = CLDataset('../dataset/otto-group-product-classification-challenge/test.csv', '../dataset/otto-group-product-classification-challenge/sampleSubmission.csv')\n",
    "test_loader = DataLoader(test_dataset, batch_size=64, shuffle=False)"
   ]
  },
  {
   "cell_type": "code",
   "execution_count": 79,
   "metadata": {},
   "outputs": [
    {
     "data": {
      "text/plain": [
       "(torch.Size([61878, 93]), torch.Size([93]))"
      ]
     },
     "execution_count": 79,
     "metadata": {},
     "output_type": "execute_result"
    }
   ],
   "source": [
    "train_dataset.x_data.shape,test_loader.dataset.x_data.shape"
   ]
  },
  {
   "cell_type": "code",
   "execution_count": 80,
   "metadata": {},
   "outputs": [],
   "source": [
    "class Net(torch.nn.Module):\n",
    "  def __init__(self):\n",
    "    super(Net, self).__init__()\n",
    "    self.linear1 = torch.nn.Linear(93, 64)\n",
    "    self.linear2 = torch.nn.Linear(64, 32)\n",
    "    self.linear3 = torch.nn.Linear(32, 16)\n",
    "    self.linear4 = torch.nn.Linear(16, 9)\n",
    "    self.relu = torch.nn.ReLU()\n",
    "\n",
    "  def forward(self, x):\n",
    "    x = self.relu(self.linear1(x))\n",
    "    x = self.relu(self.linear2(x))\n",
    "    x = self.relu(self.linear3(x))\n",
    "    x = self.linear4(x)\n",
    "    return x\n",
    "   \n",
    "model = Net()"
   ]
  },
  {
   "cell_type": "code",
   "execution_count": 81,
   "metadata": {},
   "outputs": [],
   "source": [
    "criterion = torch.nn.CrossEntropyLoss()\n",
    "optimizer = optim.SGD(model.parameters(), lr=0.01, momentum=0.5)\n",
    "\n",
    "def train(epoch):\n",
    "  running_loss = 0.0\n",
    "  for batch_idx, (data, target) in enumerate(train_loader):\n",
    "    optimizer.zero_grad()\n",
    "    output = model(data)\n",
    "    loss = criterion(output, target)\n",
    "    loss.backward()\n",
    "    optimizer.step()\n",
    "\n",
    "    running_loss += loss.item()\n",
    "    if batch_idx % 100 == 99:\n",
    "      print('[%d, %5d] loss: %.3f' % (epoch + 1, batch_idx + 1, running_loss / 100))\n",
    "      running_loss = 0.0\n",
    "    "
   ]
  },
  {
   "cell_type": "code",
   "execution_count": 82,
   "metadata": {},
   "outputs": [],
   "source": [
    "def test():\n",
    "  correct = 0\n",
    "  total = 0\n",
    "  with torch.no_grad():\n",
    "    for data, target in test_loader:\n",
    "      output = model(data)\n",
    "      _, predicted = torch.max(output.data, 1)\n",
    "      total += target.size(0)\n",
    "      correct += (predicted == target).sum().item()\n",
    "  \n",
    "  print('Accuracy of the network on the test data: %d %%' % (100 * correct / total))"
   ]
  },
  {
   "cell_type": "code",
   "execution_count": 84,
   "metadata": {},
   "outputs": [
    {
     "name": "stdout",
     "output_type": "stream",
     "text": [
      "[1,   100] loss: 0.778\n",
      "[1,   200] loss: 0.770\n",
      "[1,   300] loss: 0.747\n",
      "[1,   400] loss: 0.745\n",
      "[1,   500] loss: 0.739\n",
      "[1,   600] loss: 0.712\n",
      "[1,   700] loss: 0.710\n",
      "[1,   800] loss: 0.716\n",
      "[1,   900] loss: 0.683\n",
      "[2,   100] loss: 0.691\n",
      "[2,   200] loss: 0.697\n",
      "[2,   300] loss: 0.667\n",
      "[2,   400] loss: 0.680\n",
      "[2,   500] loss: 0.680\n",
      "[2,   600] loss: 0.673\n",
      "[2,   700] loss: 0.691\n",
      "[2,   800] loss: 0.656\n",
      "[2,   900] loss: 0.665\n",
      "[3,   100] loss: 0.636\n",
      "[3,   200] loss: 0.664\n",
      "[3,   300] loss: 0.657\n",
      "[3,   400] loss: 0.627\n",
      "[3,   500] loss: 0.650\n",
      "[3,   600] loss: 0.649\n",
      "[3,   700] loss: 0.643\n",
      "[3,   800] loss: 0.635\n",
      "[3,   900] loss: 0.652\n",
      "[4,   100] loss: 0.626\n",
      "[4,   200] loss: 0.637\n",
      "[4,   300] loss: 0.632\n",
      "[4,   400] loss: 0.624\n",
      "[4,   500] loss: 0.622\n",
      "[4,   600] loss: 0.630\n",
      "[4,   700] loss: 0.604\n",
      "[4,   800] loss: 0.624\n",
      "[4,   900] loss: 0.601\n",
      "[5,   100] loss: 0.594\n",
      "[5,   200] loss: 0.618\n",
      "[5,   300] loss: 0.599\n",
      "[5,   400] loss: 0.612\n",
      "[5,   500] loss: 0.591\n",
      "[5,   600] loss: 0.603\n",
      "[5,   700] loss: 0.610\n",
      "[5,   800] loss: 0.607\n",
      "[5,   900] loss: 0.604\n",
      "[6,   100] loss: 0.604\n",
      "[6,   200] loss: 0.569\n",
      "[6,   300] loss: 0.588\n",
      "[6,   400] loss: 0.601\n",
      "[6,   500] loss: 0.597\n",
      "[6,   600] loss: 0.590\n",
      "[6,   700] loss: 0.593\n",
      "[6,   800] loss: 0.575\n",
      "[6,   900] loss: 0.585\n",
      "[7,   100] loss: 0.583\n",
      "[7,   200] loss: 0.570\n",
      "[7,   300] loss: 0.571\n",
      "[7,   400] loss: 0.557\n",
      "[7,   500] loss: 0.575\n",
      "[7,   600] loss: 0.563\n",
      "[7,   700] loss: 0.599\n",
      "[7,   800] loss: 0.583\n",
      "[7,   900] loss: 0.576\n",
      "[8,   100] loss: 0.575\n",
      "[8,   200] loss: 0.548\n",
      "[8,   300] loss: 0.552\n",
      "[8,   400] loss: 0.565\n",
      "[8,   500] loss: 0.579\n",
      "[8,   600] loss: 0.562\n",
      "[8,   700] loss: 0.547\n",
      "[8,   800] loss: 0.567\n",
      "[8,   900] loss: 0.564\n",
      "[9,   100] loss: 0.570\n",
      "[9,   200] loss: 0.532\n",
      "[9,   300] loss: 0.555\n",
      "[9,   400] loss: 0.548\n",
      "[9,   500] loss: 0.546\n",
      "[9,   600] loss: 0.569\n",
      "[9,   700] loss: 0.567\n",
      "[9,   800] loss: 0.548\n",
      "[9,   900] loss: 0.571\n",
      "[10,   100] loss: 0.557\n",
      "[10,   200] loss: 0.551\n",
      "[10,   300] loss: 0.540\n",
      "[10,   400] loss: 0.537\n",
      "[10,   500] loss: 0.539\n",
      "[10,   600] loss: 0.542\n",
      "[10,   700] loss: 0.562\n",
      "[10,   800] loss: 0.539\n",
      "[10,   900] loss: 0.539\n"
     ]
    }
   ],
   "source": [
    "for epoch in range(10):\n",
    "  train(epoch)\n",
    "  # test()"
   ]
  },
  {
   "cell_type": "code",
   "execution_count": null,
   "metadata": {},
   "outputs": [],
   "source": []
  }
 ],
 "metadata": {
  "kernelspec": {
   "display_name": "Python 3.8.13 ('c3-nlp')",
   "language": "python",
   "name": "python3"
  },
  "language_info": {
   "codemirror_mode": {
    "name": "ipython",
    "version": 3
   },
   "file_extension": ".py",
   "mimetype": "text/x-python",
   "name": "python",
   "nbconvert_exporter": "python",
   "pygments_lexer": "ipython3",
   "version": "3.8.13"
  },
  "orig_nbformat": 4,
  "vscode": {
   "interpreter": {
    "hash": "022b350d9d731ea6beeec17b0760db9de374177ccae69f8fd03b1c527dbc4257"
   }
  }
 },
 "nbformat": 4,
 "nbformat_minor": 2
}
