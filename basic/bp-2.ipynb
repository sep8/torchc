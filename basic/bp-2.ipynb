{
 "cells": [
  {
   "cell_type": "code",
   "execution_count": 10,
   "metadata": {},
   "outputs": [],
   "source": [
    "import torch\n",
    "import matplotlib.pyplot as plt"
   ]
  },
  {
   "cell_type": "markdown",
   "metadata": {},
   "source": [
    "y = 2 x**2 + 3x + 1"
   ]
  },
  {
   "cell_type": "code",
   "execution_count": 11,
   "metadata": {},
   "outputs": [],
   "source": [
    "x_data = [1.0, 2.0, 3.0]\n",
    "y_data = [6.0, 15.0, 28.0] # 4, 45"
   ]
  },
  {
   "cell_type": "code",
   "execution_count": 12,
   "metadata": {},
   "outputs": [],
   "source": [
    "w1 = torch.Tensor([1.0])\n",
    "w1.requires_grad = True\n",
    "w2 = torch.Tensor([1.0])\n",
    "w2.requires_grad = True\n",
    "w3 = torch.Tensor([0.0])\n",
    "w3.requires_grad = True"
   ]
  },
  {
   "cell_type": "code",
   "execution_count": 13,
   "metadata": {},
   "outputs": [],
   "source": [
    "def forward(x):\n",
    "    return w1 * x ** 2 + w2 * x + w3"
   ]
  },
  {
   "cell_type": "code",
   "execution_count": 14,
   "metadata": {},
   "outputs": [],
   "source": [
    "def loss(x, y):\n",
    "    y_pred = forward(x)\n",
    "    return (y_pred - y) ** 2\n",
    "    "
   ]
  },
  {
   "cell_type": "code",
   "execution_count": 15,
   "metadata": {},
   "outputs": [
    {
     "name": "stdout",
     "output_type": "stream",
     "text": [
      "predict (before training) 4 20.0\n",
      "Epoch:  0 loss= 59.314659118652344\n",
      "Epoch:  1 loss= 24.10304069519043\n",
      "Epoch:  2 loss= 1.015716791152954\n",
      "Epoch:  3 loss= 2.88309383392334\n",
      "Epoch:  4 loss= 0.15468119084835052\n",
      "Epoch:  5 loss= 0.9147847294807434\n",
      "Epoch:  6 loss= 0.425360769033432\n",
      "Epoch:  7 loss= 0.567270815372467\n",
      "Epoch:  8 loss= 0.4451228678226471\n",
      "Epoch:  9 loss= 0.44846826791763306\n",
      "Epoch:  10 loss= 0.3999907076358795\n",
      "Epoch:  11 loss= 0.3783514201641083\n",
      "Epoch:  12 loss= 0.3479134142398834\n",
      "Epoch:  13 loss= 0.32438886165618896\n",
      "Epoch:  14 loss= 0.3005050718784332\n",
      "Epoch:  15 loss= 0.27932190895080566\n",
      "Epoch:  16 loss= 0.25927209854125977\n",
      "Epoch:  17 loss= 0.24088922142982483\n",
      "Epoch:  18 loss= 0.22376649081707\n",
      "Epoch:  19 loss= 0.20793716609477997\n",
      "Epoch:  20 loss= 0.19325318932533264\n",
      "Epoch:  21 loss= 0.17964644730091095\n",
      "Epoch:  22 loss= 0.1670302301645279\n",
      "Epoch:  23 loss= 0.1553405225276947\n",
      "Epoch:  24 loss= 0.14449359476566315\n",
      "Epoch:  25 loss= 0.13444313406944275\n",
      "Epoch:  26 loss= 0.12511493265628815\n",
      "Epoch:  27 loss= 0.11646551638841629\n",
      "Epoch:  28 loss= 0.10844346880912781\n",
      "Epoch:  29 loss= 0.10099838674068451\n",
      "Epoch:  30 loss= 0.09409399330615997\n",
      "Epoch:  31 loss= 0.08768235146999359\n",
      "Epoch:  32 loss= 0.08173451572656631\n",
      "Epoch:  33 loss= 0.07621023058891296\n",
      "Epoch:  34 loss= 0.07108351588249207\n",
      "Epoch:  35 loss= 0.06632082909345627\n",
      "Epoch:  36 loss= 0.061900630593299866\n",
      "Epoch:  37 loss= 0.05778956040740013\n",
      "Epoch:  38 loss= 0.05397649109363556\n",
      "Epoch:  39 loss= 0.05042795464396477\n",
      "Epoch:  40 loss= 0.047132473438978195\n",
      "Epoch:  41 loss= 0.04406837746500969\n",
      "Epoch:  42 loss= 0.04121948406100273\n",
      "Epoch:  43 loss= 0.0385705903172493\n",
      "Epoch:  44 loss= 0.03610817715525627\n",
      "Epoch:  45 loss= 0.0338125005364418\n",
      "Epoch:  46 loss= 0.03168110549449921\n",
      "Epoch:  47 loss= 0.029693979769945145\n",
      "Epoch:  48 loss= 0.027846910059452057\n",
      "Epoch:  49 loss= 0.02612384408712387\n",
      "Epoch:  50 loss= 0.024523260071873665\n",
      "Epoch:  51 loss= 0.023027654737234116\n",
      "Epoch:  52 loss= 0.021636297926306725\n",
      "Epoch:  53 loss= 0.020338857546448708\n",
      "Epoch:  54 loss= 0.019129512831568718\n",
      "Epoch:  55 loss= 0.018001219257712364\n",
      "Epoch:  56 loss= 0.016949409618973732\n",
      "Epoch:  57 loss= 0.015967316925525665\n",
      "Epoch:  58 loss= 0.015050077810883522\n",
      "Epoch:  59 loss= 0.014194488525390625\n",
      "Epoch:  60 loss= 0.013395706191658974\n",
      "Epoch:  61 loss= 0.01264878362417221\n",
      "Epoch:  62 loss= 0.011950377374887466\n",
      "Epoch:  63 loss= 0.011298548430204391\n",
      "Epoch:  64 loss= 0.010688649490475655\n",
      "Epoch:  65 loss= 0.010117530822753906\n",
      "Epoch:  66 loss= 0.009584113024175167\n",
      "Epoch:  67 loss= 0.009084399789571762\n",
      "Epoch:  68 loss= 0.008616468869149685\n",
      "Epoch:  69 loss= 0.0081778047606349\n",
      "Epoch:  70 loss= 0.007767736911773682\n",
      "Epoch:  71 loss= 0.0073813204653561115\n",
      "Epoch:  72 loss= 0.0070213740691542625\n",
      "Epoch:  73 loss= 0.006682269275188446\n",
      "Epoch:  74 loss= 0.0063655492849648\n",
      "Epoch:  75 loss= 0.006065725348889828\n",
      "Epoch:  76 loss= 0.0057864743284881115\n",
      "Epoch:  77 loss= 0.0055228713899850845\n",
      "Epoch:  78 loss= 0.005276214797049761\n",
      "Epoch:  79 loss= 0.0050430456176400185\n",
      "Epoch:  80 loss= 0.004824679810553789\n",
      "Epoch:  81 loss= 0.0046189213171601295\n",
      "Epoch:  82 loss= 0.004425002261996269\n",
      "Epoch:  83 loss= 0.0042429412715137005\n",
      "Epoch:  84 loss= 0.0040710303001105785\n",
      "Epoch:  85 loss= 0.003909111488610506\n",
      "Epoch:  86 loss= 0.0037565550301223993\n",
      "Epoch:  87 loss= 0.003612764645367861\n",
      "Epoch:  88 loss= 0.003476726822555065\n",
      "Epoch:  89 loss= 0.0033485954627394676\n",
      "Epoch:  90 loss= 0.0032278525177389383\n",
      "Epoch:  91 loss= 0.0031129438430070877\n",
      "Epoch:  92 loss= 0.0030055528040975332\n",
      "Epoch:  93 loss= 0.0029033345635980368\n",
      "Epoch:  94 loss= 0.002806318923830986\n",
      "Epoch:  95 loss= 0.0027149259112775326\n",
      "Epoch:  96 loss= 0.002628955990076065\n",
      "Epoch:  97 loss= 0.0025466789957135916\n",
      "Epoch:  98 loss= 0.0024691205471754074\n",
      "Epoch:  99 loss= 0.0023959348909556866\n",
      "predict (after training) 4 45.23379135131836\n"
     ]
    }
   ],
   "source": [
    "print(\"predict (before training)\", 4, forward(4).item())\n",
    "epoces = range(300)\n",
    "losts = []\n",
    "for epoch in range(100):\n",
    "    for x, y in zip(x_data, y_data):\n",
    "        l = loss(x, y)\n",
    "        l.backward()\n",
    "        w1.data = w1.data - 0.01 * w1.grad.data\n",
    "        w2.data = w2.data - 0.01 * w2.grad.data\n",
    "        w3.data = w3.data - 0.01 * w3.grad.data\n",
    "        losts.append(l.item())\n",
    "        w1.grad.data.zero_()\n",
    "        w2.grad.data.zero_()\n",
    "        w3.grad.data.zero_()\n",
    "    print(\"Epoch: \", epoch, 'loss=', l.item())\n",
    "print(\"predict (after training)\", 4, forward(4).item())"
   ]
  },
  {
   "cell_type": "code",
   "execution_count": 16,
   "metadata": {},
   "outputs": [
    {
     "data": {
      "image/png": "[encoded data removed]",
      "text/plain": [
       "<Figure size 432x288 with 1 Axes>"
      ]
     },
     "metadata": {
      "needs_background": "light"
     },
     "output_type": "display_data"
    }
   ],
   "source": [
    "plt.plot(epoces, losts)\n",
    "plt.ylabel('Loss')\n",
    "plt.xlabel('epoces')\n",
    "plt.show()"
   ]
  },
  {
   "cell_type": "code",
   "execution_count": null,
   "metadata": {},
   "outputs": [],
   "source": []
  }
 ],
 "metadata": {
  "kernelspec": {
   "display_name": "Python 3.9.13 ('torch')",
   "language": "python",
   "name": "python3"
  },
  "language_info": {
   "codemirror_mode": {
    "name": "ipython",
    "version": 3
   },
   "file_extension": ".py",
   "mimetype": "text/x-python",
   "name": "python",
   "nbconvert_exporter": "python",
   "pygments_lexer": "ipython3",
   "version": "3.9.13"
  },
  "orig_nbformat": 4,
  "vscode": {
   "interpreter": {
    "hash": "e4670fb8ce984b94d35f99e9f6e3660635f3fa9b149816d0027b93d0ab56905c"
   }
  }
 },
 "nbformat": 4,
 "nbformat_minor": 2
}
